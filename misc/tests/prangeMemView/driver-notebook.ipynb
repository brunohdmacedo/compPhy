{
 "cells": [
  {
   "cell_type": "code",
   "execution_count": 1,
   "id": "b8f5e390-0de3-4b52-9ba0-c172f3a94490",
   "metadata": {},
   "outputs": [],
   "source": [
    "import cythontest as ct\n",
    "import numpy as np\n",
    "import time"
   ]
  },
  {
   "cell_type": "code",
   "execution_count": 2,
   "id": "ca2ae37f-dd03-4eec-b551-43cfd1e1df94",
   "metadata": {},
   "outputs": [
    {
     "name": "stdout",
     "output_type": "stream",
     "text": [
      "Time taken by cython+python:  0.060925960540771484\n"
     ]
    }
   ],
   "source": [
    "import cythontest as ct\n",
    "import numpy as np\n",
    "import time\n",
    "\n",
    "\n",
    "N    = 10000   # size of the array\n",
    "iter = 10000   # number of iterations \n",
    "\n",
    "\n",
    "r1         = np.linspace(-10,10, N)\n",
    "r2         = np.linspace(-10,10, N)\n",
    "C = r1*0\n",
    "C1 = r1*0\n",
    "\n",
    "# call the cython block\n",
    "t1 = time.time()\n",
    "\n",
    "rm = ct.cythontest(N)\n",
    "rm.calcC(r1, r2, iter)\n",
    "\n",
    "t2 = time.time()\n",
    "print\n",
    "print ('Time taken by cython+python: ',t2-t1)"
   ]
  },
  {
   "cell_type": "code",
   "execution_count": 3,
   "id": "6db90af1-6b7a-4feb-8444-7c2669106c39",
   "metadata": {},
   "outputs": [
    {
     "name": "stdout",
     "output_type": "stream",
     "text": [
      "Time taken by pure python  :  18.062577724456787\n",
      "Both result are same       :  True\n"
     ]
    }
   ],
   "source": [
    "# do the same thing in pure python\n",
    "#\n",
    "t3 = time.time()\n",
    "for j in range(N):\n",
    "    for tn in range(iter):\n",
    "        C[j] = r1[j]*r2[j] \n",
    "#    \n",
    "t4 = time.time()\n",
    "print ('Time taken by pure python  : ',t4-t3)\n",
    "print ('Both result are same       : ', np.allclose(C, rm.C))"
   ]
  }
 ],
 "metadata": {
  "kernelspec": {
   "display_name": "Python 3 (ipykernel)",
   "language": "python",
   "name": "python3"
  },
  "language_info": {
   "codemirror_mode": {
    "name": "ipython",
    "version": 3
   },
   "file_extension": ".py",
   "mimetype": "text/x-python",
   "name": "python",
   "nbconvert_exporter": "python",
   "pygments_lexer": "ipython3",
   "version": "3.9.12"
  }
 },
 "nbformat": 4,
 "nbformat_minor": 5
}
